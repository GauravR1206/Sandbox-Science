{
 "cells": [
  {
   "cell_type": "code",
   "execution_count": 4,
   "id": "f5db2dda",
   "metadata": {},
   "outputs": [],
   "source": [
    "\t\n",
    "import numpy as np\n",
    "from sklearn.datasets import fetch_olivetti_faces\n",
    "import matplotlib.pyplot as plt\n"
   ]
  },
  {
   "cell_type": "code",
   "execution_count": 5,
   "id": "d9bb05b5",
   "metadata": {},
   "outputs": [],
   "source": [
    "faces=fetch_olivetti_faces()\n"
   ]
  },
  {
   "cell_type": "code",
   "execution_count": 6,
   "id": "549a4cb6",
   "metadata": {},
   "outputs": [
    {
     "name": "stdout",
     "output_type": "stream",
     "text": [
      "(400, 4096)\n",
      "(64, 64)\n"
     ]
    },
    {
     "data": {
      "image/png": "[encoded data removed]",
      "text/plain": [
       "<Figure size 800x800 with 1 Axes>"
      ]
     },
     "metadata": {},
     "output_type": "display_data"
    }
   ],
   "source": [
    "print(faces.data.shape)\n",
    "print(faces.images[1].shape)\n",
    "\n",
    "plt.figure(figsize=(8, 8))\n",
    "plt.imshow(faces.images[71], cmap='gray')\n",
    "plt.title(f'Face Image {1}')\n",
    "plt.axis('off')\n",
    "plt.show()"
   ]
  },
  {
   "cell_type": "code",
   "execution_count": 7,
   "id": "aa2cf338",
   "metadata": {},
   "outputs": [
    {
     "name": "stdout",
     "output_type": "stream",
     "text": [
      "Saved face_0.npy in face_images\n",
      "Saved face_1.npy in face_images\n",
      "Saved face_2.npy in face_images\n",
      "Saved face_3.npy in face_images\n",
      "Saved face_4.npy in face_images\n",
      "Saved face_5.npy in face_images\n",
      "Saved face_6.npy in face_images\n",
      "Saved face_7.npy in face_images\n",
      "Saved face_8.npy in face_images\n",
      "Saved face_9.npy in face_images\n",
      "Saved face_10.npy in face_images\n",
      "Saved face_11.npy in face_images\n",
      "Saved face_12.npy in face_images\n",
      "Saved face_13.npy in face_images\n",
      "Saved face_14.npy in face_images\n",
      "Saved face_15.npy in face_images\n",
      "Saved face_16.npy in face_images\n",
      "Saved face_17.npy in face_images\n",
      "Saved face_18.npy in face_images\n",
      "Saved face_19.npy in face_images\n",
      "Saved face_20.npy in face_images\n",
      "Saved face_21.npy in face_images\n",
      "Saved face_22.npy in face_images\n",
      "Saved face_23.npy in face_images\n",
      "Saved face_24.npy in face_images\n",
      "Saved face_25.npy in face_images\n",
      "Saved face_26.npy in face_images\n",
      "Saved face_27.npy in face_images\n",
      "Saved face_28.npy in face_images\n",
      "Saved face_29.npy in face_images\n",
      "Saved face_30.npy in face_images\n",
      "Saved face_31.npy in face_images\n",
      "Saved face_32.npy in face_images\n",
      "Saved face_33.npy in face_images\n",
      "Saved face_34.npy in face_images\n",
      "Saved face_35.npy in face_images\n",
      "Saved face_36.npy in face_images\n",
      "Saved face_37.npy in face_images\n",
      "Saved face_38.npy in face_images\n",
      "Saved face_39.npy in face_images\n",
      "Saved face_40.npy in face_images\n",
      "Saved face_41.npy in face_images\n",
      "Saved face_42.npy in face_images\n",
      "Saved face_43.npy in face_images\n",
      "Saved face_44.npy in face_images\n",
      "Saved face_45.npy in face_images\n",
      "Saved face_46.npy in face_images\n",
      "Saved face_47.npy in face_images\n",
      "Saved face_48.npy in face_images\n",
      "Saved face_49.npy in face_images\n",
      "Saved face_50.npy in face_images\n",
      "Saved face_51.npy in face_images\n",
      "Saved face_52.npy in face_images\n",
      "Saved face_53.npy in face_images\n",
      "Saved face_54.npy in face_images\n",
      "Saved face_55.npy in face_images\n",
      "Saved face_56.npy in face_images\n",
      "Saved face_57.npy in face_images\n",
      "Saved face_58.npy in face_images\n",
      "Saved face_59.npy in face_images\n",
      "Saved face_60.npy in face_images\n",
      "Saved face_61.npy in face_images\n",
      "Saved face_62.npy in face_images\n",
      "Saved face_63.npy in face_images\n",
      "Saved face_64.npy in face_images\n",
      "Saved face_65.npy in face_images\n",
      "Saved face_66.npy in face_images\n",
      "Saved face_67.npy in face_images\n",
      "Saved face_68.npy in face_images\n",
      "Saved face_69.npy in face_images\n",
      "Saved face_70.npy in face_images\n",
      "Saved face_71.npy in face_images\n",
      "Saved face_72.npy in face_images\n",
      "Saved face_73.npy in face_images\n",
      "Saved face_74.npy in face_images\n",
      "Saved face_75.npy in face_images\n",
      "Saved face_76.npy in face_images\n",
      "Saved face_77.npy in face_images\n",
      "Saved face_78.npy in face_images\n",
      "Saved face_79.npy in face_images\n",
      "Saved face_80.npy in face_images\n",
      "Saved face_81.npy in face_images\n",
      "Saved face_82.npy in face_images\n",
      "Saved face_83.npy in face_images\n",
      "Saved face_84.npy in face_images\n",
      "Saved face_85.npy in face_images\n",
      "Saved face_86.npy in face_images\n",
      "Saved face_87.npy in face_images\n",
      "Saved face_88.npy in face_images\n",
      "Saved face_89.npy in face_images\n",
      "Saved face_90.npy in face_images\n",
      "Saved face_91.npy in face_images\n",
      "Saved face_92.npy in face_images\n",
      "Saved face_93.npy in face_images\n",
      "Saved face_94.npy in face_images\n",
      "Saved face_95.npy in face_images\n",
      "Saved face_96.npy in face_images\n",
      "Saved face_97.npy in face_images\n",
      "Saved face_98.npy in face_images\n",
      "Saved face_99.npy in face_images\n",
      "All images saved in 'face_images' directory\n"
     ]
    }
   ],
   "source": [
    "import os\n",
    "import numpy as np\n",
    "\n",
    "# Create a folder to save the images\n",
    "output_folder = \"face_images\"\n",
    "if not os.path.exists(output_folder):\n",
    "    os.makedirs(output_folder)\n",
    "\n",
    "# Define the ranges to save\n",
    "ranges = [(0, 99)]\n",
    "\n",
    "# Save images for each range in a single directory\n",
    "for start, end in ranges:\n",
    "    # Save each image in the range\n",
    "    for i in range(start, end + 1):\n",
    "        image = faces.images[i]\n",
    "        filename = os.path.join(output_folder, f\"face_{i}.npy\")\n",
    "        np.save(filename, image)\n",
    "        print(f\"Saved face_{i}.npy in {output_folder}\")\n",
    "\n",
    "print(f\"All images saved in '{output_folder}' directory\")\n"
   ]
  },
  {
   "cell_type": "code",
   "execution_count": 9,
   "id": "3da76b22",
   "metadata": {},
   "outputs": [
    {
     "data": {
      "image/png": "[encoded data removed]",
      "text/plain": [
       "<Figure size 800x800 with 1 Axes>"
      ]
     },
     "metadata": {},
     "output_type": "display_data"
    }
   ],
   "source": [
    "loaded_image = np.load('./face_images/face_20.npy')\n",
    "\n",
    "plt.figure(figsize=(8, 8)) \n",
    "plt.imshow(loaded_image, cmap='gray')\n",
    "plt.title('Loaded Face Image 70')\n",
    "plt.axis('off')\n",
    "plt.show()"
   ]
  },
  {
   "cell_type": "code",
   "execution_count": null,
   "id": "4c5c2c55",
   "metadata": {},
   "outputs": [],
   "source": []
  }
 ],
 "metadata": {
  "kernelspec": {
   "display_name": ".venv",
   "language": "python",
   "name": "python3"
  },
  "language_info": {
   "codemirror_mode": {
    "name": "ipython",
    "version": 3
   },
   "file_extension": ".py",
   "mimetype": "text/x-python",
   "name": "python",
   "nbconvert_exporter": "python",
   "pygments_lexer": "ipython3",
   "version": "3.12.9"
  }
 },
 "nbformat": 4,
 "nbformat_minor": 5
}
