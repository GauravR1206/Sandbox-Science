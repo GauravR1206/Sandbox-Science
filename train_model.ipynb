{
 "cells": [
  {
   "cell_type": "markdown",
   "metadata": {},
   "source": [
    "# Train a JointVAE model"
   ]
  },
  {
   "cell_type": "markdown",
   "metadata": {},
   "source": [
    "### Get MNIST data\n",
    "Build a simple JointVAE model on MNIST"
   ]
  },
  {
   "cell_type": "code",
   "execution_count": 1,
   "metadata": {},
   "outputs": [],
   "source": [
    "from utils.dataloaders import get_mnist_dataloaders\n",
    "train_loader, test_loader = get_mnist_dataloaders(batch_size=64)"
   ]
  },
  {
   "cell_type": "markdown",
   "metadata": {},
   "source": [
    "### Define latent distribution of the model"
   ]
  },
  {
   "cell_type": "code",
   "execution_count": 2,
   "metadata": {},
   "outputs": [],
   "source": [
    "# Latent distribution will be joint distribution of 10 gaussian normal distributions\n",
    "# and one 10 dimensional Gumbel Softmax distribution\n",
    "latent_spec = {'cont': 3,\n",
    "               'disc': [10]}"
   ]
  },
  {
   "cell_type": "markdown",
   "metadata": {},
   "source": [
    "### Build a model"
   ]
  },
  {
   "cell_type": "code",
   "execution_count": 3,
   "metadata": {},
   "outputs": [],
   "source": [
    "from jointvae.models import VAE\n",
    "\n",
    "model = VAE(latent_spec=latent_spec, img_size=(1, 32, 32))"
   ]
  },
  {
   "cell_type": "code",
   "execution_count": 4,
   "metadata": {},
   "outputs": [
    {
     "name": "stdout",
     "output_type": "stream",
     "text": [
      "VAE(\n",
      "  (img_to_features): Sequential(\n",
      "    (0): Conv2d(1, 32, kernel_size=(4, 4), stride=(2, 2), padding=(1, 1))\n",
      "    (1): ReLU()\n",
      "    (2): Conv2d(32, 64, kernel_size=(4, 4), stride=(2, 2), padding=(1, 1))\n",
      "    (3): ReLU()\n",
      "    (4): Conv2d(64, 64, kernel_size=(4, 4), stride=(2, 2), padding=(1, 1))\n",
      "    (5): ReLU()\n",
      "  )\n",
      "  (features_to_hidden): Sequential(\n",
      "    (0): Linear(in_features=1024, out_features=256, bias=True)\n",
      "    (1): ReLU()\n",
      "  )\n",
      "  (fc_mean): Linear(in_features=256, out_features=3, bias=True)\n",
      "  (fc_log_var): Linear(in_features=256, out_features=3, bias=True)\n",
      "  (fc_alphas): ModuleList(\n",
      "    (0): Linear(in_features=256, out_features=10, bias=True)\n",
      "  )\n",
      "  (latent_to_features): Sequential(\n",
      "    (0): Linear(in_features=13, out_features=256, bias=True)\n",
      "    (1): ReLU()\n",
      "    (2): Linear(in_features=256, out_features=1024, bias=True)\n",
      "    (3): ReLU()\n",
      "  )\n",
      "  (features_to_img): Sequential(\n",
      "    (0): ConvTranspose2d(64, 32, kernel_size=(4, 4), stride=(2, 2), padding=(1, 1))\n",
      "    (1): ReLU()\n",
      "    (2): ConvTranspose2d(32, 32, kernel_size=(4, 4), stride=(2, 2), padding=(1, 1))\n",
      "    (3): ReLU()\n",
      "    (4): ConvTranspose2d(32, 1, kernel_size=(4, 4), stride=(2, 2), padding=(1, 1))\n",
      "    (5): Sigmoid()\n",
      "  )\n",
      ")\n"
     ]
    }
   ],
   "source": [
    "print(model)"
   ]
  },
  {
   "cell_type": "markdown",
   "metadata": {},
   "source": [
    "### Train the model"
   ]
  },
  {
   "cell_type": "code",
   "execution_count": 5,
   "metadata": {},
   "outputs": [],
   "source": [
    "from torch import optim\n",
    "\n",
    "# Build optimizer\n",
    "optimizer = optim.Adam(model.parameters(), lr=5e-4)"
   ]
  },
  {
   "cell_type": "code",
   "execution_count": 6,
   "metadata": {},
   "outputs": [],
   "source": [
    "from jointvae.training import Trainer\n",
    "\n",
    "# Define the capacities\n",
    "# Continuous channels\n",
    "cont_capacity = [0.0, 5.0, 25000, 30.0]  # Starting at a capacity of 0.0, increase this to 5.0\n",
    "                                         # over 25000 iterations with a gamma of 30.0\n",
    "# Discrete channels\n",
    "disc_capacity = [0.0, 5.0, 25000, 30.0]  # Starting at a capacity of 0.0, increase this to 5.0\n",
    "                                         # over 25000 iterations with a gamma of 30.0\n",
    "\n",
    "# Build a trainer\n",
    "trainer = Trainer(model, optimizer,\n",
    "                  cont_capacity=cont_capacity,\n",
    "                  disc_capacity=disc_capacity)"
   ]
  },
  {
   "cell_type": "code",
   "execution_count": 7,
   "metadata": {},
   "outputs": [],
   "source": [
    "# Build a visualizer which will be passed to trainer to visualize progress during training\n",
    "from viz.visualize import Visualizer\n",
    "\n",
    "viz = Visualizer(model)"
   ]
  },
  {
   "cell_type": "code",
   "execution_count": 8,
   "metadata": {},
   "outputs": [
    {
     "name": "stdout",
     "output_type": "stream",
     "text": [
      "0/60000\tLoss: 719.487\n",
      "3200/60000\tLoss: 485.825\n",
      "6400/60000\tLoss: 293.755\n",
      "9600/60000\tLoss: 275.296\n",
      "12800/60000\tLoss: 273.618\n",
      "16000/60000\tLoss: 273.185\n",
      "19200/60000\tLoss: 270.825\n",
      "22400/60000\tLoss: 269.380\n",
      "25600/60000\tLoss: 267.023\n",
      "28800/60000\tLoss: 266.224\n",
      "32000/60000\tLoss: 267.505\n",
      "35200/60000\tLoss: 263.891\n",
      "38400/60000\tLoss: 264.627\n",
      "41600/60000\tLoss: 264.526\n",
      "44800/60000\tLoss: 262.786\n",
      "48000/60000\tLoss: 261.802\n",
      "51200/60000\tLoss: 262.945\n",
      "54400/60000\tLoss: 259.795\n",
      "57600/60000\tLoss: 258.897\n",
      "Epoch: 1 Average loss: 279.88\n",
      "0/60000\tLoss: 264.217\n",
      "3200/60000\tLoss: 257.960\n",
      "6400/60000\tLoss: 257.246\n",
      "9600/60000\tLoss: 255.265\n",
      "12800/60000\tLoss: 256.752\n",
      "16000/60000\tLoss: 256.678\n",
      "19200/60000\tLoss: 254.731\n",
      "22400/60000\tLoss: 256.339\n",
      "25600/60000\tLoss: 253.076\n",
      "28800/60000\tLoss: 251.550\n",
      "32000/60000\tLoss: 253.075\n",
      "35200/60000\tLoss: 251.595\n",
      "38400/60000\tLoss: 250.474\n",
      "41600/60000\tLoss: 251.682\n",
      "44800/60000\tLoss: 249.317\n",
      "48000/60000\tLoss: 249.043\n",
      "51200/60000\tLoss: 248.515\n",
      "54400/60000\tLoss: 250.936\n",
      "57600/60000\tLoss: 247.960\n",
      "Epoch: 2 Average loss: 252.79\n",
      "0/60000\tLoss: 247.350\n",
      "3200/60000\tLoss: 247.996\n",
      "6400/60000\tLoss: 247.679\n",
      "9600/60000\tLoss: 245.260\n",
      "12800/60000\tLoss: 245.958\n",
      "16000/60000\tLoss: 245.069\n",
      "19200/60000\tLoss: 244.180\n",
      "22400/60000\tLoss: 244.395\n",
      "25600/60000\tLoss: 243.238\n",
      "28800/60000\tLoss: 243.237\n",
      "32000/60000\tLoss: 242.627\n",
      "35200/60000\tLoss: 239.024\n",
      "38400/60000\tLoss: 240.500\n",
      "41600/60000\tLoss: 239.473\n",
      "44800/60000\tLoss: 238.834\n",
      "48000/60000\tLoss: 240.146\n",
      "51200/60000\tLoss: 239.359\n",
      "54400/60000\tLoss: 236.973\n",
      "57600/60000\tLoss: 238.807\n",
      "Epoch: 3 Average loss: 242.37\n",
      "0/60000\tLoss: 238.173\n",
      "3200/60000\tLoss: 234.843\n",
      "6400/60000\tLoss: 234.550\n",
      "9600/60000\tLoss: 237.358\n",
      "12800/60000\tLoss: 235.776\n",
      "16000/60000\tLoss: 233.866\n",
      "19200/60000\tLoss: 232.910\n",
      "22400/60000\tLoss: 234.390\n",
      "25600/60000\tLoss: 231.856\n",
      "28800/60000\tLoss: 231.616\n",
      "32000/60000\tLoss: 232.344\n",
      "35200/60000\tLoss: 229.256\n",
      "38400/60000\tLoss: 230.632\n",
      "41600/60000\tLoss: 230.442\n",
      "44800/60000\tLoss: 229.648\n",
      "48000/60000\tLoss: 227.872\n",
      "51200/60000\tLoss: 227.951\n",
      "54400/60000\tLoss: 225.377\n",
      "57600/60000\tLoss: 226.391\n",
      "Epoch: 4 Average loss: 231.44\n",
      "0/60000\tLoss: 219.307\n",
      "3200/60000\tLoss: 226.423\n",
      "6400/60000\tLoss: 223.881\n",
      "9600/60000\tLoss: 226.720\n",
      "12800/60000\tLoss: 223.105\n",
      "16000/60000\tLoss: 224.717\n",
      "19200/60000\tLoss: 223.365\n",
      "22400/60000\tLoss: 220.251\n",
      "25600/60000\tLoss: 220.968\n",
      "28800/60000\tLoss: 218.473\n",
      "32000/60000\tLoss: 220.589\n",
      "35200/60000\tLoss: 219.813\n",
      "38400/60000\tLoss: 217.797\n",
      "41600/60000\tLoss: 217.984\n",
      "44800/60000\tLoss: 216.585\n",
      "48000/60000\tLoss: 218.399\n",
      "51200/60000\tLoss: 216.962\n",
      "54400/60000\tLoss: 216.647\n",
      "57600/60000\tLoss: 216.237\n",
      "Epoch: 5 Average loss: 220.46\n",
      "0/60000\tLoss: 208.437\n",
      "3200/60000\tLoss: 216.019\n",
      "6400/60000\tLoss: 214.330\n",
      "9600/60000\tLoss: 215.154\n",
      "12800/60000\tLoss: 213.792\n",
      "16000/60000\tLoss: 212.661\n",
      "19200/60000\tLoss: 211.876\n",
      "22400/60000\tLoss: 213.251\n",
      "25600/60000\tLoss: 213.086\n",
      "28800/60000\tLoss: 212.123\n",
      "32000/60000\tLoss: 209.844\n",
      "35200/60000\tLoss: 210.402\n",
      "38400/60000\tLoss: 209.745\n",
      "41600/60000\tLoss: 208.411\n",
      "44800/60000\tLoss: 209.795\n",
      "48000/60000\tLoss: 208.735\n",
      "51200/60000\tLoss: 206.848\n",
      "54400/60000\tLoss: 205.500\n",
      "57600/60000\tLoss: 208.470\n",
      "Epoch: 6 Average loss: 211.10\n",
      "0/60000\tLoss: 216.799\n",
      "3200/60000\tLoss: 208.263\n",
      "6400/60000\tLoss: 207.180\n",
      "9600/60000\tLoss: 206.076\n",
      "12800/60000\tLoss: 206.132\n",
      "16000/60000\tLoss: 205.634\n",
      "19200/60000\tLoss: 204.180\n",
      "22400/60000\tLoss: 204.632\n",
      "25600/60000\tLoss: 205.427\n",
      "28800/60000\tLoss: 202.319\n",
      "32000/60000\tLoss: 202.065\n",
      "35200/60000\tLoss: 203.194\n",
      "38400/60000\tLoss: 203.326\n",
      "41600/60000\tLoss: 202.711\n",
      "44800/60000\tLoss: 202.877\n",
      "48000/60000\tLoss: 202.530\n",
      "51200/60000\tLoss: 198.324\n",
      "54400/60000\tLoss: 201.404\n",
      "57600/60000\tLoss: 203.864\n",
      "Epoch: 7 Average loss: 203.90\n",
      "0/60000\tLoss: 195.391\n",
      "3200/60000\tLoss: 198.581\n",
      "6400/60000\tLoss: 200.780\n",
      "9600/60000\tLoss: 200.464\n",
      "12800/60000\tLoss: 200.304\n",
      "16000/60000\tLoss: 199.588\n",
      "19200/60000\tLoss: 197.426\n",
      "22400/60000\tLoss: 196.760\n",
      "25600/60000\tLoss: 196.589\n",
      "28800/60000\tLoss: 198.928\n",
      "32000/60000\tLoss: 199.936\n",
      "35200/60000\tLoss: 197.776\n",
      "38400/60000\tLoss: 197.305\n",
      "41600/60000\tLoss: 195.773\n",
      "44800/60000\tLoss: 198.360\n",
      "48000/60000\tLoss: 197.163\n",
      "51200/60000\tLoss: 195.846\n",
      "54400/60000\tLoss: 198.217\n",
      "57600/60000\tLoss: 194.903\n",
      "Epoch: 8 Average loss: 197.97\n",
      "0/60000\tLoss: 190.620\n",
      "3200/60000\tLoss: 195.491\n",
      "6400/60000\tLoss: 194.520\n",
      "9600/60000\tLoss: 195.580\n",
      "12800/60000\tLoss: 193.797\n",
      "16000/60000\tLoss: 195.482\n",
      "19200/60000\tLoss: 194.666\n",
      "22400/60000\tLoss: 193.330\n",
      "25600/60000\tLoss: 194.137\n",
      "28800/60000\tLoss: 191.980\n",
      "32000/60000\tLoss: 192.868\n",
      "35200/60000\tLoss: 192.622\n",
      "38400/60000\tLoss: 190.940\n",
      "41600/60000\tLoss: 192.792\n",
      "44800/60000\tLoss: 193.095\n",
      "48000/60000\tLoss: 190.940\n",
      "51200/60000\tLoss: 194.409\n",
      "54400/60000\tLoss: 191.104\n",
      "57600/60000\tLoss: 191.047\n",
      "Epoch: 9 Average loss: 193.45\n",
      "0/60000\tLoss: 179.381\n",
      "3200/60000\tLoss: 190.695\n",
      "6400/60000\tLoss: 191.009\n",
      "9600/60000\tLoss: 192.253\n",
      "12800/60000\tLoss: 190.815\n",
      "16000/60000\tLoss: 192.066\n",
      "19200/60000\tLoss: 189.754\n",
      "22400/60000\tLoss: 190.687\n",
      "25600/60000\tLoss: 189.611\n",
      "28800/60000\tLoss: 190.334\n",
      "32000/60000\tLoss: 190.102\n",
      "35200/60000\tLoss: 188.829\n",
      "38400/60000\tLoss: 189.030\n",
      "41600/60000\tLoss: 189.160\n",
      "44800/60000\tLoss: 189.890\n",
      "48000/60000\tLoss: 189.532\n",
      "51200/60000\tLoss: 190.620\n",
      "54400/60000\tLoss: 189.436\n",
      "57600/60000\tLoss: 188.406\n",
      "Epoch: 10 Average loss: 190.23\n"
     ]
    }
   ],
   "source": [
    "# Train model for 10 epochs\n",
    "# Note this should really be a 100 epochs and trained on a GPU, but this is just to demo\n",
    "\n",
    "trainer.train(train_loader, epochs=10)"
   ]
  },
  {
   "cell_type": "markdown",
   "metadata": {},
   "source": [
    "### Visualize"
   ]
  },
  {
   "cell_type": "code",
   "execution_count": 10,
   "metadata": {},
   "outputs": [
    {
     "ename": "AttributeError",
     "evalue": "'NoneType' object has no attribute 'numpy'",
     "output_type": "error",
     "traceback": [
      "\u001b[31m---------------------------------------------------------------------------\u001b[39m",
      "\u001b[31mAttributeError\u001b[39m                            Traceback (most recent call last)",
      "\u001b[36mCell\u001b[39m\u001b[36m \u001b[39m\u001b[32mIn[10]\u001b[39m\u001b[32m, line 4\u001b[39m\n\u001b[32m      2\u001b[39m \u001b[38;5;66;03m# Plot samples\u001b[39;00m\n\u001b[32m      3\u001b[39m samples = viz.samples()\n\u001b[32m----> \u001b[39m\u001b[32m4\u001b[39m plt.imshow(\u001b[43msamples\u001b[49m\u001b[43m.\u001b[49m\u001b[43mnumpy\u001b[49m()[\u001b[32m0\u001b[39m, :, :], cmap=\u001b[33m'\u001b[39m\u001b[33mgray\u001b[39m\u001b[33m'\u001b[39m)\n",
      "\u001b[31mAttributeError\u001b[39m: 'NoneType' object has no attribute 'numpy'"
     ]
    }
   ],
   "source": [
    "import matplotlib.pyplot as plt\n",
    "# Plot samples\n",
    "samples = viz.samples()\n",
    "plt.imshow(samples.numpy()[0, :, :], cmap='gray')"
   ]
  },
  {
   "cell_type": "code",
   "execution_count": null,
   "metadata": {},
   "outputs": [
    {
     "data": {
      "text/plain": [
       "<matplotlib.image.AxesImage at 0x176fc7cb0>"
      ]
     },
     "metadata": {},
     "output_type": "display_data"
    },
    {
     "data": {
      "image/png": "[encoded data removed]",
      "text/plain": [
       "<Figure size 640x480 with 1 Axes>"
      ]
     },
     "metadata": {},
     "output_type": "display_data"
    }
   ],
   "source": [
    "# Plot all traversals\n",
    "traversals = viz.all_latent_traversals(size=10)\n",
    "plt.imshow(traversals.numpy()[0, :, :], cmap='gray')"
   ]
  }
 ],
 "metadata": {
  "kernelspec": {
   "display_name": ".venv",
   "language": "python",
   "name": "python3"
  },
  "language_info": {
   "codemirror_mode": {
    "name": "ipython",
    "version": 3
   },
   "file_extension": ".py",
   "mimetype": "text/x-python",
   "name": "python",
   "nbconvert_exporter": "python",
   "pygments_lexer": "ipython3",
   "version": "3.12.9"
  }
 },
 "nbformat": 4,
 "nbformat_minor": 2
}
